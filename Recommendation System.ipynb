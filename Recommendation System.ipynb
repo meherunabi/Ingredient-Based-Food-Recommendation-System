{
 "cells": [
  {
   "cell_type": "markdown",
   "metadata": {},
   "source": [
    "# Ingredients based Food Recommendation System\n",
    "##### Ingredient based food recommendations sytem has been built targeting online food ordering platforms. Ideally the recommendation system should provide N number of recommended food based on user's last ordered food. Here, the last ordered food are considered as the queried food. The recommeded foods are predicted based on the similarity of ingredients between queried food and other available food items within food item profile. To predict the recommendations a TF-IDF matrix for all food ingredients has been built within Vector Space Model(SVD). From the TF-IDF weights similarity score has been calculated between queried and other food items based on ingredients. Here, three similarity algorithm has been implemented to compare their results, these are - Cosine similarity, Euclidean Distance and Pearson Correlation.\n",
    "\n",
    "### Steps followed: \n",
    "#### 1. Load and Merge data.\n",
    "#### 2. EDA.\n",
    "#### 3. TF-IDF Modeling\n",
    "#### 4. Similarity Algorithm\n",
    "#### 5. Recommendation functions."
   ]
  },
  {
   "cell_type": "code",
   "execution_count": 21,
   "metadata": {},
   "outputs": [],
   "source": [
    "import pandas as pd\n",
    "import numpy as np\n",
    "from pandas import DataFrame\n",
    "from sklearn.feature_extraction.text import  CountVectorizer\n",
    "from sklearn.feature_extraction.text import TfidfTransformer \n",
    "from sklearn.feature_extraction.text import TfidfVectorizer\n",
    "from sklearn.metrics.pairwise import linear_kernel \n",
    "from sklearn.metrics.pairwise import euclidean_distances\n",
    "from scipy.stats.stats import pearsonr\n",
    "from scipy import sparse\n",
    "from sklearn.metrics.pairwise import cosine_similarity\n",
    "from scipy.stats import pearsonr"
   ]
  },
  {
   "cell_type": "markdown",
   "metadata": {},
   "source": [
    "## Step-1: Load Data & Merge Data"
   ]
  },
  {
   "cell_type": "code",
   "execution_count": 22,
   "metadata": {},
   "outputs": [
    {
     "name": "stderr",
     "output_type": "stream",
     "text": [
      "C:\\Users\\iPric\\anaconda3\\lib\\site-packages\\ipykernel_launcher.py:4: FutureWarning: Passing a negative integer is deprecated in version 1.0 and will not be supported in future version. Instead, use None to not limit the column width.\n",
      "  after removing the cwd from sys.path.\n"
     ]
    }
   ],
   "source": [
    "recipe_df=pd.read_csv(\"RAW_recipes.csv\").fillna(0)\n",
    "user_order=pd.read_csv(\"RAW_interactions.csv\").fillna(0)\n",
    "#sample_df=pd.read_excel(\"sample_df.xlsx\").fillna(0)\n",
    "pd.set_option(\"display.max_colwidth\", -1)"
   ]
  },
  {
   "cell_type": "markdown",
   "metadata": {},
   "source": [
    "##### Note: For research purpose considering 10000 rows to build the recommender system"
   ]
  },
  {
   "cell_type": "code",
   "execution_count": 24,
   "metadata": {},
   "outputs": [
    {
     "data": {
      "text/html": [
       "<div>\n",
       "<style scoped>\n",
       "    .dataframe tbody tr th:only-of-type {\n",
       "        vertical-align: middle;\n",
       "    }\n",
       "\n",
       "    .dataframe tbody tr th {\n",
       "        vertical-align: top;\n",
       "    }\n",
       "\n",
       "    .dataframe thead th {\n",
       "        text-align: right;\n",
       "    }\n",
       "</style>\n",
       "<table border=\"1\" class=\"dataframe\">\n",
       "  <thead>\n",
       "    <tr style=\"text-align: right;\">\n",
       "      <th></th>\n",
       "      <th>name</th>\n",
       "      <th>id</th>\n",
       "      <th>ingredients</th>\n",
       "    </tr>\n",
       "  </thead>\n",
       "  <tbody>\n",
       "    <tr>\n",
       "      <th>0</th>\n",
       "      <td>arriba   baked winter squash mexican style</td>\n",
       "      <td>137739</td>\n",
       "      <td>['winter squash', 'mexican seasoning', 'mixed spice', 'honey', 'butter', 'olive oil', 'salt']</td>\n",
       "    </tr>\n",
       "    <tr>\n",
       "      <th>1</th>\n",
       "      <td>a bit different  breakfast pizza</td>\n",
       "      <td>31490</td>\n",
       "      <td>['prepared pizza crust', 'sausage patty', 'eggs', 'milk', 'salt and pepper', 'cheese']</td>\n",
       "    </tr>\n",
       "    <tr>\n",
       "      <th>2</th>\n",
       "      <td>all in the kitchen  chili</td>\n",
       "      <td>112140</td>\n",
       "      <td>['ground beef', 'yellow onions', 'diced tomatoes', 'tomato paste', 'tomato soup', 'rotel tomatoes', 'kidney beans', 'water', 'chili powder', 'ground cumin', 'salt', 'lettuce', 'cheddar cheese']</td>\n",
       "    </tr>\n",
       "    <tr>\n",
       "      <th>3</th>\n",
       "      <td>alouette  potatoes</td>\n",
       "      <td>59389</td>\n",
       "      <td>['spreadable cheese with garlic and herbs', 'new potatoes', 'shallots', 'parsley', 'tarragon', 'olive oil', 'red wine vinegar', 'salt', 'pepper', 'red bell pepper', 'yellow bell pepper']</td>\n",
       "    </tr>\n",
       "    <tr>\n",
       "      <th>4</th>\n",
       "      <td>amish  tomato ketchup  for canning</td>\n",
       "      <td>44061</td>\n",
       "      <td>['tomato juice', 'apple cider vinegar', 'sugar', 'salt', 'pepper', 'clove oil', 'cinnamon oil', 'dry mustard']</td>\n",
       "    </tr>\n",
       "  </tbody>\n",
       "</table>\n",
       "</div>"
      ],
      "text/plain": [
       "                                         name      id  \\\n",
       "0  arriba   baked winter squash mexican style  137739   \n",
       "1  a bit different  breakfast pizza            31490    \n",
       "2  all in the kitchen  chili                   112140   \n",
       "3  alouette  potatoes                          59389    \n",
       "4  amish  tomato ketchup  for canning          44061    \n",
       "\n",
       "                                                                                                                                                                                         ingredients  \n",
       "0  ['winter squash', 'mexican seasoning', 'mixed spice', 'honey', 'butter', 'olive oil', 'salt']                                                                                                      \n",
       "1  ['prepared pizza crust', 'sausage patty', 'eggs', 'milk', 'salt and pepper', 'cheese']                                                                                                             \n",
       "2  ['ground beef', 'yellow onions', 'diced tomatoes', 'tomato paste', 'tomato soup', 'rotel tomatoes', 'kidney beans', 'water', 'chili powder', 'ground cumin', 'salt', 'lettuce', 'cheddar cheese']  \n",
       "3  ['spreadable cheese with garlic and herbs', 'new potatoes', 'shallots', 'parsley', 'tarragon', 'olive oil', 'red wine vinegar', 'salt', 'pepper', 'red bell pepper', 'yellow bell pepper']         \n",
       "4  ['tomato juice', 'apple cider vinegar', 'sugar', 'salt', 'pepper', 'clove oil', 'cinnamon oil', 'dry mustard']                                                                                     "
      ]
     },
     "execution_count": 24,
     "metadata": {},
     "output_type": "execute_result"
    }
   ],
   "source": [
    "sample_df=recipe_df[['name','id','ingredients']].head(10000)\n",
    "sample_df.head(5)"
   ]
  },
  {
   "cell_type": "code",
   "execution_count": 27,
   "metadata": {
    "collapsed": true,
    "jupyter": {
     "outputs_hidden": true
    }
   },
   "outputs": [
    {
     "data": {
      "text/html": [
       "<div>\n",
       "<style scoped>\n",
       "    .dataframe tbody tr th:only-of-type {\n",
       "        vertical-align: middle;\n",
       "    }\n",
       "\n",
       "    .dataframe tbody tr th {\n",
       "        vertical-align: top;\n",
       "    }\n",
       "\n",
       "    .dataframe thead th {\n",
       "        text-align: right;\n",
       "    }\n",
       "</style>\n",
       "<table border=\"1\" class=\"dataframe\">\n",
       "  <thead>\n",
       "    <tr style=\"text-align: right;\">\n",
       "      <th></th>\n",
       "      <th>user_id</th>\n",
       "      <th>recipe_id</th>\n",
       "      <th>name</th>\n",
       "      <th>rating</th>\n",
       "      <th>ingredients</th>\n",
       "    </tr>\n",
       "  </thead>\n",
       "  <tbody>\n",
       "    <tr>\n",
       "      <th>0</th>\n",
       "      <td>135017</td>\n",
       "      <td>254596</td>\n",
       "      <td>apple apricot pork chops   crock pot</td>\n",
       "      <td>5</td>\n",
       "      <td>['pork chops', 'apple', 'dried apricot', 'cranberries', 'onion', 'celery', 'apple juice', 'brown sugar', 'wine', 'salt and pepper', 'cornstarch', 'cold water']</td>\n",
       "    </tr>\n",
       "    <tr>\n",
       "      <th>1</th>\n",
       "      <td>224088</td>\n",
       "      <td>254596</td>\n",
       "      <td>apple apricot pork chops   crock pot</td>\n",
       "      <td>4</td>\n",
       "      <td>['pork chops', 'apple', 'dried apricot', 'cranberries', 'onion', 'celery', 'apple juice', 'brown sugar', 'wine', 'salt and pepper', 'cornstarch', 'cold water']</td>\n",
       "    </tr>\n",
       "    <tr>\n",
       "      <th>2</th>\n",
       "      <td>582223</td>\n",
       "      <td>254596</td>\n",
       "      <td>apple apricot pork chops   crock pot</td>\n",
       "      <td>5</td>\n",
       "      <td>['pork chops', 'apple', 'dried apricot', 'cranberries', 'onion', 'celery', 'apple juice', 'brown sugar', 'wine', 'salt and pepper', 'cornstarch', 'cold water']</td>\n",
       "    </tr>\n",
       "    <tr>\n",
       "      <th>3</th>\n",
       "      <td>1413963</td>\n",
       "      <td>254596</td>\n",
       "      <td>apple apricot pork chops   crock pot</td>\n",
       "      <td>5</td>\n",
       "      <td>['pork chops', 'apple', 'dried apricot', 'cranberries', 'onion', 'celery', 'apple juice', 'brown sugar', 'wine', 'salt and pepper', 'cornstarch', 'cold water']</td>\n",
       "    </tr>\n",
       "    <tr>\n",
       "      <th>4</th>\n",
       "      <td>6258</td>\n",
       "      <td>20930</td>\n",
       "      <td>2 tomato pasta salad</td>\n",
       "      <td>5</td>\n",
       "      <td>['pasta', 'bacon', 'red peppers', 'sun-dried tomatoes', 'olive oil', 'mozzarella cheese', 'pine nuts', 'fresh oregano', 'chives', 'cherry tomatoes', 'white vinegar', 'sugar', 'balsamic vinegar', 'garlic', 'french mustard']</td>\n",
       "    </tr>\n",
       "    <tr>\n",
       "      <th>...</th>\n",
       "      <td>...</td>\n",
       "      <td>...</td>\n",
       "      <td>...</td>\n",
       "      <td>...</td>\n",
       "      <td>...</td>\n",
       "    </tr>\n",
       "    <tr>\n",
       "      <th>48735</th>\n",
       "      <td>457661</td>\n",
       "      <td>213546</td>\n",
       "      <td>arin s potatoes</td>\n",
       "      <td>5</td>\n",
       "      <td>['canned whole potatoes', 'lemon pepper', 'salt', 'season salt', 'oregano', 'butter']</td>\n",
       "    </tr>\n",
       "    <tr>\n",
       "      <th>48736</th>\n",
       "      <td>169430</td>\n",
       "      <td>190261</td>\n",
       "      <td>anise carrots</td>\n",
       "      <td>5</td>\n",
       "      <td>['carrot', 'onion', 'butter', 'anise', 'apricot preserves', 'salt', 'pepper']</td>\n",
       "    </tr>\n",
       "    <tr>\n",
       "      <th>48737</th>\n",
       "      <td>58104</td>\n",
       "      <td>190261</td>\n",
       "      <td>anise carrots</td>\n",
       "      <td>5</td>\n",
       "      <td>['carrot', 'onion', 'butter', 'anise', 'apricot preserves', 'salt', 'pepper']</td>\n",
       "    </tr>\n",
       "    <tr>\n",
       "      <th>48738</th>\n",
       "      <td>1197076</td>\n",
       "      <td>190261</td>\n",
       "      <td>anise carrots</td>\n",
       "      <td>0</td>\n",
       "      <td>['carrot', 'onion', 'butter', 'anise', 'apricot preserves', 'salt', 'pepper']</td>\n",
       "    </tr>\n",
       "    <tr>\n",
       "      <th>48739</th>\n",
       "      <td>424680</td>\n",
       "      <td>190261</td>\n",
       "      <td>anise carrots</td>\n",
       "      <td>5</td>\n",
       "      <td>['carrot', 'onion', 'butter', 'anise', 'apricot preserves', 'salt', 'pepper']</td>\n",
       "    </tr>\n",
       "  </tbody>\n",
       "</table>\n",
       "<p>48740 rows × 5 columns</p>\n",
       "</div>"
      ],
      "text/plain": [
       "       user_id  recipe_id                                  name  rating  \\\n",
       "0      135017   254596     apple apricot pork chops   crock pot  5        \n",
       "1      224088   254596     apple apricot pork chops   crock pot  4        \n",
       "2      582223   254596     apple apricot pork chops   crock pot  5        \n",
       "3      1413963  254596     apple apricot pork chops   crock pot  5        \n",
       "4      6258     20930      2 tomato pasta salad                  5        \n",
       "...     ...       ...                       ...                 ..        \n",
       "48735  457661   213546     arin s potatoes                       5        \n",
       "48736  169430   190261     anise carrots                         5        \n",
       "48737  58104    190261     anise carrots                         5        \n",
       "48738  1197076  190261     anise carrots                         0        \n",
       "48739  424680   190261     anise carrots                         5        \n",
       "\n",
       "                                                                                                                                                                                                                          ingredients  \n",
       "0      ['pork chops', 'apple', 'dried apricot', 'cranberries', 'onion', 'celery', 'apple juice', 'brown sugar', 'wine', 'salt and pepper', 'cornstarch', 'cold water']                                                                 \n",
       "1      ['pork chops', 'apple', 'dried apricot', 'cranberries', 'onion', 'celery', 'apple juice', 'brown sugar', 'wine', 'salt and pepper', 'cornstarch', 'cold water']                                                                 \n",
       "2      ['pork chops', 'apple', 'dried apricot', 'cranberries', 'onion', 'celery', 'apple juice', 'brown sugar', 'wine', 'salt and pepper', 'cornstarch', 'cold water']                                                                 \n",
       "3      ['pork chops', 'apple', 'dried apricot', 'cranberries', 'onion', 'celery', 'apple juice', 'brown sugar', 'wine', 'salt and pepper', 'cornstarch', 'cold water']                                                                 \n",
       "4      ['pasta', 'bacon', 'red peppers', 'sun-dried tomatoes', 'olive oil', 'mozzarella cheese', 'pine nuts', 'fresh oregano', 'chives', 'cherry tomatoes', 'white vinegar', 'sugar', 'balsamic vinegar', 'garlic', 'french mustard']  \n",
       "...                                                                                                                                                                                                                               ...  \n",
       "48735  ['canned whole potatoes', 'lemon pepper', 'salt', 'season salt', 'oregano', 'butter']                                                                                                                                           \n",
       "48736  ['carrot', 'onion', 'butter', 'anise', 'apricot preserves', 'salt', 'pepper']                                                                                                                                                   \n",
       "48737  ['carrot', 'onion', 'butter', 'anise', 'apricot preserves', 'salt', 'pepper']                                                                                                                                                   \n",
       "48738  ['carrot', 'onion', 'butter', 'anise', 'apricot preserves', 'salt', 'pepper']                                                                                                                                                   \n",
       "48739  ['carrot', 'onion', 'butter', 'anise', 'apricot preserves', 'salt', 'pepper']                                                                                                                                                   \n",
       "\n",
       "[48740 rows x 5 columns]"
      ]
     },
     "execution_count": 27,
     "metadata": {},
     "output_type": "execute_result"
    }
   ],
   "source": [
    "df_merge_user_recipe = pd.merge(user_order, sample_df, left_on='recipe_id', right_on='id')\n",
    "\n",
    "df_merge_user_recipe[['user_id','recipe_id','name','rating','ingredients']]"
   ]
  },
  {
   "cell_type": "code",
   "execution_count": 29,
   "metadata": {},
   "outputs": [
    {
     "data": {
      "text/html": [
       "<div>\n",
       "<style scoped>\n",
       "    .dataframe tbody tr th:only-of-type {\n",
       "        vertical-align: middle;\n",
       "    }\n",
       "\n",
       "    .dataframe tbody tr th {\n",
       "        vertical-align: top;\n",
       "    }\n",
       "\n",
       "    .dataframe thead th {\n",
       "        text-align: right;\n",
       "    }\n",
       "</style>\n",
       "<table border=\"1\" class=\"dataframe\">\n",
       "  <thead>\n",
       "    <tr style=\"text-align: right;\">\n",
       "      <th></th>\n",
       "      <th>user_id</th>\n",
       "      <th>recipe_id</th>\n",
       "      <th>name</th>\n",
       "      <th>ingredients</th>\n",
       "      <th>order_count</th>\n",
       "    </tr>\n",
       "  </thead>\n",
       "  <tbody>\n",
       "    <tr>\n",
       "      <th>0</th>\n",
       "      <td>1533</td>\n",
       "      <td>68986</td>\n",
       "      <td>apricot mousse</td>\n",
       "      <td>['dried apricot', 'honey', 'cottage cheese', 'nonfat plain yogurt', 'unflavored gelatin']</td>\n",
       "      <td>1</td>\n",
       "    </tr>\n",
       "    <tr>\n",
       "      <th>1</th>\n",
       "      <td>1535</td>\n",
       "      <td>153</td>\n",
       "      <td>amish friendship bread and starter</td>\n",
       "      <td>['sugar', 'milk', 'flour', 'oil', 'eggs', 'vanilla extract', 'baking powder', 'cinnamon', 'salt', 'baking soda', 'instant vanilla pudding', 'nuts']</td>\n",
       "      <td>1</td>\n",
       "    </tr>\n",
       "    <tr>\n",
       "      <th>2</th>\n",
       "      <td>1535</td>\n",
       "      <td>9518</td>\n",
       "      <td>30 second sandwich</td>\n",
       "      <td>['bread', 'cheese']</td>\n",
       "      <td>1</td>\n",
       "    </tr>\n",
       "    <tr>\n",
       "      <th>3</th>\n",
       "      <td>1535</td>\n",
       "      <td>13805</td>\n",
       "      <td>1 2 3 granola</td>\n",
       "      <td>['rolled oats', 'wheat germ', 'sunflower seeds', 'walnuts', 'honey', 'oil', 'vanilla extract']</td>\n",
       "      <td>1</td>\n",
       "    </tr>\n",
       "  </tbody>\n",
       "</table>\n",
       "</div>"
      ],
      "text/plain": [
       "   user_id  recipe_id                                name  \\\n",
       "0  1533     68986      apricot mousse                       \n",
       "1  1535     153        amish friendship bread and starter   \n",
       "2  1535     9518       30 second sandwich                   \n",
       "3  1535     13805      1 2 3 granola                        \n",
       "\n",
       "                                                                                                                                           ingredients  \\\n",
       "0  ['dried apricot', 'honey', 'cottage cheese', 'nonfat plain yogurt', 'unflavored gelatin']                                                             \n",
       "1  ['sugar', 'milk', 'flour', 'oil', 'eggs', 'vanilla extract', 'baking powder', 'cinnamon', 'salt', 'baking soda', 'instant vanilla pudding', 'nuts']   \n",
       "2  ['bread', 'cheese']                                                                                                                                   \n",
       "3  ['rolled oats', 'wheat germ', 'sunflower seeds', 'walnuts', 'honey', 'oil', 'vanilla extract']                                                        \n",
       "\n",
       "   order_count  \n",
       "0  1            \n",
       "1  1            \n",
       "2  1            \n",
       "3  1            "
      ]
     },
     "execution_count": 29,
     "metadata": {},
     "output_type": "execute_result"
    }
   ],
   "source": [
    "user_order_cnt = df_merge_user_recipe.groupby(['user_id','recipe_id','name','ingredients']).agg({'recipe_id':'count'})\n",
    "user_order_cnt.columns = ['order_count']\n",
    "user_order_cnt = user_order_cnt.reset_index()\n",
    "user_order_cnt.head(4)"
   ]
  },
  {
   "cell_type": "markdown",
   "metadata": {},
   "source": [
    "## 2. Explorarotory Data Analysis"
   ]
  },
  {
   "cell_type": "markdown",
   "metadata": {},
   "source": [
    "#### 2. Number of order per user"
   ]
  },
  {
   "cell_type": "code",
   "execution_count": 32,
   "metadata": {},
   "outputs": [
    {
     "data": {
      "text/html": [
       "<div>\n",
       "<style scoped>\n",
       "    .dataframe tbody tr th:only-of-type {\n",
       "        vertical-align: middle;\n",
       "    }\n",
       "\n",
       "    .dataframe tbody tr th {\n",
       "        vertical-align: top;\n",
       "    }\n",
       "\n",
       "    .dataframe thead th {\n",
       "        text-align: right;\n",
       "    }\n",
       "</style>\n",
       "<table border=\"1\" class=\"dataframe\">\n",
       "  <thead>\n",
       "    <tr style=\"text-align: right;\">\n",
       "      <th></th>\n",
       "      <th>user_id</th>\n",
       "      <th>recipe_id</th>\n",
       "      <th>name</th>\n",
       "      <th>ingredients</th>\n",
       "      <th>order_count</th>\n",
       "    </tr>\n",
       "  </thead>\n",
       "  <tbody>\n",
       "    <tr>\n",
       "      <th>0</th>\n",
       "      <td>1533</td>\n",
       "      <td>68986</td>\n",
       "      <td>apricot mousse</td>\n",
       "      <td>['dried apricot', 'honey', 'cottage cheese', 'nonfat plain yogurt', 'unflavored gelatin']</td>\n",
       "      <td>1</td>\n",
       "    </tr>\n",
       "    <tr>\n",
       "      <th>1</th>\n",
       "      <td>1535</td>\n",
       "      <td>153</td>\n",
       "      <td>amish friendship bread and starter</td>\n",
       "      <td>['sugar', 'milk', 'flour', 'oil', 'eggs', 'vanilla extract', 'baking powder', 'cinnamon', 'salt', 'baking soda', 'instant vanilla pudding', 'nuts']</td>\n",
       "      <td>1</td>\n",
       "    </tr>\n",
       "    <tr>\n",
       "      <th>2</th>\n",
       "      <td>1535</td>\n",
       "      <td>9518</td>\n",
       "      <td>30 second sandwich</td>\n",
       "      <td>['bread', 'cheese']</td>\n",
       "      <td>1</td>\n",
       "    </tr>\n",
       "    <tr>\n",
       "      <th>3</th>\n",
       "      <td>1535</td>\n",
       "      <td>13805</td>\n",
       "      <td>1 2 3 granola</td>\n",
       "      <td>['rolled oats', 'wheat germ', 'sunflower seeds', 'walnuts', 'honey', 'oil', 'vanilla extract']</td>\n",
       "      <td>1</td>\n",
       "    </tr>\n",
       "  </tbody>\n",
       "</table>\n",
       "</div>"
      ],
      "text/plain": [
       "   user_id  recipe_id                                name  \\\n",
       "0  1533     68986      apricot mousse                       \n",
       "1  1535     153        amish friendship bread and starter   \n",
       "2  1535     9518       30 second sandwich                   \n",
       "3  1535     13805      1 2 3 granola                        \n",
       "\n",
       "                                                                                                                                           ingredients  \\\n",
       "0  ['dried apricot', 'honey', 'cottage cheese', 'nonfat plain yogurt', 'unflavored gelatin']                                                             \n",
       "1  ['sugar', 'milk', 'flour', 'oil', 'eggs', 'vanilla extract', 'baking powder', 'cinnamon', 'salt', 'baking soda', 'instant vanilla pudding', 'nuts']   \n",
       "2  ['bread', 'cheese']                                                                                                                                   \n",
       "3  ['rolled oats', 'wheat germ', 'sunflower seeds', 'walnuts', 'honey', 'oil', 'vanilla extract']                                                        \n",
       "\n",
       "   order_count  \n",
       "0  1            \n",
       "1  1            \n",
       "2  1            \n",
       "3  1            "
      ]
     },
     "execution_count": 32,
     "metadata": {},
     "output_type": "execute_result"
    }
   ],
   "source": [
    "user_order_cnt = df_merge_user_recipe.groupby(['user_id','recipe_id','name','ingredients']).agg({'recipe_id':'count'})\n",
    "user_order_cnt.columns = ['order_count']\n",
    "user_order_cnt = user_order_cnt.reset_index()\n",
    "user_order_cnt.head(4)"
   ]
  },
  {
   "cell_type": "markdown",
   "metadata": {},
   "source": [
    "#### 3. Top ordered food menu\n"
   ]
  },
  {
   "cell_type": "code",
   "execution_count": 34,
   "metadata": {},
   "outputs": [
    {
     "data": {
      "text/html": [
       "<div>\n",
       "<style scoped>\n",
       "    .dataframe tbody tr th:only-of-type {\n",
       "        vertical-align: middle;\n",
       "    }\n",
       "\n",
       "    .dataframe tbody tr th {\n",
       "        vertical-align: top;\n",
       "    }\n",
       "\n",
       "    .dataframe thead th {\n",
       "        text-align: right;\n",
       "    }\n",
       "</style>\n",
       "<table border=\"1\" class=\"dataframe\">\n",
       "  <thead>\n",
       "    <tr style=\"text-align: right;\">\n",
       "      <th></th>\n",
       "      <th>recipe_id</th>\n",
       "      <th>name</th>\n",
       "      <th>order_count</th>\n",
       "    </tr>\n",
       "  </thead>\n",
       "  <tbody>\n",
       "    <tr>\n",
       "      <th>753</th>\n",
       "      <td>32204</td>\n",
       "      <td>whatever floats your boat  brownies</td>\n",
       "      <td>1220</td>\n",
       "    </tr>\n",
       "    <tr>\n",
       "      <th>651</th>\n",
       "      <td>28768</td>\n",
       "      <td>absolute best ever lasagna</td>\n",
       "      <td>560</td>\n",
       "    </tr>\n",
       "    <tr>\n",
       "      <th>3229</th>\n",
       "      <td>132263</td>\n",
       "      <td>5 minute vegan pancakes</td>\n",
       "      <td>482</td>\n",
       "    </tr>\n",
       "    <tr>\n",
       "      <th>2640</th>\n",
       "      <td>107997</td>\n",
       "      <td>4 minute spicy garlic shrimp</td>\n",
       "      <td>321</td>\n",
       "    </tr>\n",
       "    <tr>\n",
       "      <th>1307</th>\n",
       "      <td>53878</td>\n",
       "      <td>amazing white trash puff balls</td>\n",
       "      <td>308</td>\n",
       "    </tr>\n",
       "    <tr>\n",
       "      <th>671</th>\n",
       "      <td>29598</td>\n",
       "      <td>amazing chicken marinade</td>\n",
       "      <td>296</td>\n",
       "    </tr>\n",
       "    <tr>\n",
       "      <th>2646</th>\n",
       "      <td>108231</td>\n",
       "      <td>amazing chicken tortilla soup</td>\n",
       "      <td>241</td>\n",
       "    </tr>\n",
       "    <tr>\n",
       "      <th>4356</th>\n",
       "      <td>183081</td>\n",
       "      <td>40 minute hamburger buns</td>\n",
       "      <td>205</td>\n",
       "    </tr>\n",
       "    <tr>\n",
       "      <th>220</th>\n",
       "      <td>12591</td>\n",
       "      <td>angel food cake   homemade</td>\n",
       "      <td>204</td>\n",
       "    </tr>\n",
       "    <tr>\n",
       "      <th>2122</th>\n",
       "      <td>87748</td>\n",
       "      <td>all purpose stir fry sauce  brown garlic sauce</td>\n",
       "      <td>203</td>\n",
       "    </tr>\n",
       "    <tr>\n",
       "      <th>1205</th>\n",
       "      <td>49737</td>\n",
       "      <td>panera bread  black bean soup</td>\n",
       "      <td>202</td>\n",
       "    </tr>\n",
       "    <tr>\n",
       "      <th>3698</th>\n",
       "      <td>152441</td>\n",
       "      <td>24k carrots</td>\n",
       "      <td>186</td>\n",
       "    </tr>\n",
       "    <tr>\n",
       "      <th>1682</th>\n",
       "      <td>69089</td>\n",
       "      <td>artichoke and chicken bake</td>\n",
       "      <td>183</td>\n",
       "    </tr>\n",
       "    <tr>\n",
       "      <th>406</th>\n",
       "      <td>19724</td>\n",
       "      <td>adam s ribs</td>\n",
       "      <td>173</td>\n",
       "    </tr>\n",
       "    <tr>\n",
       "      <th>683</th>\n",
       "      <td>29935</td>\n",
       "      <td>1 pan fudge cake</td>\n",
       "      <td>170</td>\n",
       "    </tr>\n",
       "  </tbody>\n",
       "</table>\n",
       "</div>"
      ],
      "text/plain": [
       "      recipe_id                                            name  order_count\n",
       "753   32204      whatever floats your boat  brownies             1220       \n",
       "651   28768      absolute best ever lasagna                      560        \n",
       "3229  132263     5 minute vegan pancakes                         482        \n",
       "2640  107997     4 minute spicy garlic shrimp                    321        \n",
       "1307  53878      amazing white trash puff balls                  308        \n",
       "671   29598      amazing chicken marinade                        296        \n",
       "2646  108231     amazing chicken tortilla soup                   241        \n",
       "4356  183081     40 minute hamburger buns                        205        \n",
       "220   12591      angel food cake   homemade                      204        \n",
       "2122  87748      all purpose stir fry sauce  brown garlic sauce  203        \n",
       "1205  49737      panera bread  black bean soup                   202        \n",
       "3698  152441     24k carrots                                     186        \n",
       "1682  69089      artichoke and chicken bake                      183        \n",
       "406   19724      adam s ribs                                     173        \n",
       "683   29935      1 pan fudge cake                                170        "
      ]
     },
     "execution_count": 34,
     "metadata": {},
     "output_type": "execute_result"
    }
   ],
   "source": [
    "\n",
    "recipe_cnt = user_order_cnt.groupby(['recipe_id','name']).agg({'user_id':'count'})\n",
    "recipe_cnt.columns = ['order_count']\n",
    "recipe_cnt = recipe_cnt.reset_index()\n",
    "\n",
    "#recipe_cnt.head(5)\n",
    "top_n_recipe = recipe_cnt.sort_values('order_count',ascending = False).head(15)\n",
    "top_n_recipe"
   ]
  },
  {
   "cell_type": "code",
   "execution_count": 35,
   "metadata": {},
   "outputs": [
    {
     "data": {
      "text/plain": [
       "231637"
      ]
     },
     "execution_count": 35,
     "metadata": {},
     "output_type": "execute_result"
    }
   ],
   "source": [
    "total_recipe = recipe_df['id'].value_counts().sum()\n",
    "total_recipe"
   ]
  },
  {
   "cell_type": "code",
   "execution_count": 36,
   "metadata": {},
   "outputs": [
    {
     "data": {
      "text/plain": [
       "1132367"
      ]
     },
     "execution_count": 36,
     "metadata": {},
     "output_type": "execute_result"
    }
   ],
   "source": [
    "total_order = user_order['user_id'].value_counts().sum()\n",
    "total_order"
   ]
  },
  {
   "cell_type": "markdown",
   "metadata": {},
   "source": [
    "#### 4. Word Clouds- Ingredients"
   ]
  },
  {
   "cell_type": "code",
   "execution_count": 37,
   "metadata": {},
   "outputs": [
    {
     "data": {
      "image/png": "[encoded data removed]",
      "text/plain": [
       "<Figure size 720x1080 with 1 Axes>"
      ]
     },
     "metadata": {
      "needs_background": "light"
     },
     "output_type": "display_data"
    }
   ],
   "source": [
    "import matplotlib.pyplot as plt\n",
    "from wordcloud import WordCloud, STOPWORDS\n",
    "# https://stackoverflow.com/questions/61916096/word-cloud-built-out-of-tf-idf-vectorizer-function\n",
    "## Word Cloud\n",
    "\n",
    "vectorizer = TfidfVectorizer(stop_words='english')\n",
    "vecs = vectorizer.fit_transform(sample_df['ingredients'])\n",
    "feature_names = vectorizer.get_feature_names()\n",
    "dense = vecs.todense()\n",
    "lst1 = dense.tolist()\n",
    "df = pd.DataFrame(lst1, columns=feature_names)\n",
    "#df.T.sum(axis=1)\n",
    "#Cloud = WordCloud(background_color=\"white\", max_words=50).generate_from_frequencies(df.T.sum(axis=1))\n",
    "Cloud = WordCloud(background_color=\"white\", max_words=50).generate_from_frequencies(df.T.sum(axis=1))\n",
    "plt.figure(figsize = (10, 15), facecolor = None) \n",
    "plt.imshow(Cloud) \n",
    "plt.axis(\"off\") \n",
    "plt.tight_layout(pad = 0) \n",
    "\n",
    "plt.show() "
   ]
  },
  {
   "cell_type": "code",
   "execution_count": 38,
   "metadata": {},
   "outputs": [],
   "source": [
    "#Funtion to get top order of a given user_id\n",
    "def user_order_history( user_id, N):\n",
    "    user_filter = user_order_cnt[user_order_cnt['user_id'] ==user_id]\n",
    "    top_n_recipe = user_filter.sort_values('rec_count',ascending = False).head(N)\n",
    "    return  top_n_recipe\n",
    "\n"
   ]
  },
  {
   "cell_type": "code",
   "execution_count": null,
   "metadata": {},
   "outputs": [],
   "source": [
    "userid = int(input(\"Enter an User ID >>>\"))\n",
    "topn=int(input(\"Enter Top N >>>\"))\n",
    "user_order_history(userid,topn)\n"
   ]
  },
  {
   "cell_type": "code",
   "execution_count": null,
   "metadata": {},
   "outputs": [],
   "source": [
    "user_df['recipe_id']"
   ]
  },
  {
   "cell_type": "markdown",
   "metadata": {},
   "source": [
    "## Step-3. Vector Space Modeling(VSM)\n",
    "#####  In this project, the Vector space model is the basic element upon which the recommendation system is built on. A vector space model is an algebraic model to represent text documents (and general objects) as vectors of identifiers, such as index terms . A vector space model uses term occurrences as vector identifiers, so vector space model (VSM) is also known as term vector model. In this project each individual ingredient (an item in the recipe database) and queried recipe are represented in the form of vectors. Vector space model has following three steps to retrieve documents according to the query -\n",
    "##### a. Document cleaning and indexing, \n",
    "##### b. Term weighting, \n",
    "##### c. Similarity measure.\n",
    "###### Bellow script will perform a. Document cleaning and indexing and  b. Term weighting, \n"
   ]
  },
  {
   "cell_type": "code",
   "execution_count": 15,
   "metadata": {},
   "outputs": [],
   "source": [
    "tf = TfidfVectorizer(\n",
    "    analyzer='word', \n",
    "    ngram_range=(1, 2), \n",
    "    min_df=0.03,\n",
    "    max_features=5000,\n",
    "  #token_pattern=r'\\b[^\\d\\W]+\\b',\n",
    "    stop_words='english',\n",
    "    sublinear_tf=True\n",
    ")\n",
    "\n",
    "#recipe_ids=sample_df['id'].tolist()\n",
    "\n",
    "tfidf_matrix = tf.fit_transform(sample_df['ingredients'])"
   ]
  },
  {
   "cell_type": "code",
   "execution_count": 16,
   "metadata": {},
   "outputs": [
    {
     "data": {
      "text/plain": [
       "146"
      ]
     },
     "execution_count": 16,
     "metadata": {},
     "output_type": "execute_result"
    }
   ],
   "source": [
    "tfidf_feature_names=tf.get_feature_names()\n",
    "len(tfidf_feature_names)"
   ]
  },
  {
   "cell_type": "markdown",
   "metadata": {},
   "source": [
    "##### Ingredient's TF-IDF matrix "
   ]
  },
  {
   "cell_type": "code",
   "execution_count": 17,
   "metadata": {},
   "outputs": [
    {
     "data": {
      "text/html": [
       "<div>\n",
       "<style scoped>\n",
       "    .dataframe tbody tr th:only-of-type {\n",
       "        vertical-align: middle;\n",
       "    }\n",
       "\n",
       "    .dataframe tbody tr th {\n",
       "        vertical-align: top;\n",
       "    }\n",
       "\n",
       "    .dataframe thead th {\n",
       "        text-align: right;\n",
       "    }\n",
       "</style>\n",
       "<table border=\"1\" class=\"dataframe\">\n",
       "  <thead>\n",
       "    <tr style=\"text-align: right;\">\n",
       "      <th></th>\n",
       "      <th>vanilla extract</th>\n",
       "      <th>bell</th>\n",
       "      <th>parmesan cheese</th>\n",
       "      <th>baking powder</th>\n",
       "      <th>oregano</th>\n",
       "      <th>flour</th>\n",
       "      <th>black pepper</th>\n",
       "      <th>powder salt</th>\n",
       "      <th>granulated sugar</th>\n",
       "      <th>powdered</th>\n",
       "      <th>...</th>\n",
       "      <th>red</th>\n",
       "      <th>tomato</th>\n",
       "      <th>butter</th>\n",
       "      <th>nutmeg</th>\n",
       "      <th>purpose</th>\n",
       "      <th>granulated</th>\n",
       "      <th>apple</th>\n",
       "      <th>raisins</th>\n",
       "      <th>rice</th>\n",
       "      <th>vinegar</th>\n",
       "    </tr>\n",
       "    <tr>\n",
       "      <th>id</th>\n",
       "      <th></th>\n",
       "      <th></th>\n",
       "      <th></th>\n",
       "      <th></th>\n",
       "      <th></th>\n",
       "      <th></th>\n",
       "      <th></th>\n",
       "      <th></th>\n",
       "      <th></th>\n",
       "      <th></th>\n",
       "      <th></th>\n",
       "      <th></th>\n",
       "      <th></th>\n",
       "      <th></th>\n",
       "      <th></th>\n",
       "      <th></th>\n",
       "      <th></th>\n",
       "      <th></th>\n",
       "      <th></th>\n",
       "      <th></th>\n",
       "      <th></th>\n",
       "    </tr>\n",
       "  </thead>\n",
       "  <tbody>\n",
       "    <tr>\n",
       "      <th>448417</th>\n",
       "      <td>0.0</td>\n",
       "      <td>0.000000</td>\n",
       "      <td>0.0</td>\n",
       "      <td>0.000000</td>\n",
       "      <td>0.000000</td>\n",
       "      <td>0.000000</td>\n",
       "      <td>0.000000</td>\n",
       "      <td>0.000000</td>\n",
       "      <td>0.0</td>\n",
       "      <td>0.0</td>\n",
       "      <td>...</td>\n",
       "      <td>0.0</td>\n",
       "      <td>0.00000</td>\n",
       "      <td>0.000000</td>\n",
       "      <td>0.000000</td>\n",
       "      <td>0.0</td>\n",
       "      <td>0.0</td>\n",
       "      <td>0.0</td>\n",
       "      <td>0.0</td>\n",
       "      <td>0.0</td>\n",
       "      <td>0.0</td>\n",
       "    </tr>\n",
       "    <tr>\n",
       "      <th>387440</th>\n",
       "      <td>0.0</td>\n",
       "      <td>0.000000</td>\n",
       "      <td>0.0</td>\n",
       "      <td>0.241258</td>\n",
       "      <td>0.000000</td>\n",
       "      <td>0.163477</td>\n",
       "      <td>0.000000</td>\n",
       "      <td>0.298134</td>\n",
       "      <td>0.0</td>\n",
       "      <td>0.0</td>\n",
       "      <td>...</td>\n",
       "      <td>0.0</td>\n",
       "      <td>0.00000</td>\n",
       "      <td>0.154523</td>\n",
       "      <td>0.266827</td>\n",
       "      <td>0.0</td>\n",
       "      <td>0.0</td>\n",
       "      <td>0.0</td>\n",
       "      <td>0.0</td>\n",
       "      <td>0.0</td>\n",
       "      <td>0.0</td>\n",
       "    </tr>\n",
       "    <tr>\n",
       "      <th>279229</th>\n",
       "      <td>0.0</td>\n",
       "      <td>0.000000</td>\n",
       "      <td>0.0</td>\n",
       "      <td>0.375184</td>\n",
       "      <td>0.000000</td>\n",
       "      <td>0.254225</td>\n",
       "      <td>0.000000</td>\n",
       "      <td>0.463632</td>\n",
       "      <td>0.0</td>\n",
       "      <td>0.0</td>\n",
       "      <td>...</td>\n",
       "      <td>0.0</td>\n",
       "      <td>0.00000</td>\n",
       "      <td>0.240302</td>\n",
       "      <td>0.000000</td>\n",
       "      <td>0.0</td>\n",
       "      <td>0.0</td>\n",
       "      <td>0.0</td>\n",
       "      <td>0.0</td>\n",
       "      <td>0.0</td>\n",
       "      <td>0.0</td>\n",
       "    </tr>\n",
       "    <tr>\n",
       "      <th>271012</th>\n",
       "      <td>0.0</td>\n",
       "      <td>0.000000</td>\n",
       "      <td>0.0</td>\n",
       "      <td>0.000000</td>\n",
       "      <td>0.000000</td>\n",
       "      <td>0.000000</td>\n",
       "      <td>0.000000</td>\n",
       "      <td>0.000000</td>\n",
       "      <td>0.0</td>\n",
       "      <td>0.0</td>\n",
       "      <td>...</td>\n",
       "      <td>0.0</td>\n",
       "      <td>0.00000</td>\n",
       "      <td>0.225010</td>\n",
       "      <td>0.000000</td>\n",
       "      <td>0.0</td>\n",
       "      <td>0.0</td>\n",
       "      <td>0.0</td>\n",
       "      <td>0.0</td>\n",
       "      <td>0.0</td>\n",
       "      <td>0.0</td>\n",
       "    </tr>\n",
       "    <tr>\n",
       "      <th>495344</th>\n",
       "      <td>0.0</td>\n",
       "      <td>0.285095</td>\n",
       "      <td>0.0</td>\n",
       "      <td>0.000000</td>\n",
       "      <td>0.284258</td>\n",
       "      <td>0.000000</td>\n",
       "      <td>0.000000</td>\n",
       "      <td>0.000000</td>\n",
       "      <td>0.0</td>\n",
       "      <td>0.0</td>\n",
       "      <td>...</td>\n",
       "      <td>0.0</td>\n",
       "      <td>0.27882</td>\n",
       "      <td>0.000000</td>\n",
       "      <td>0.000000</td>\n",
       "      <td>0.0</td>\n",
       "      <td>0.0</td>\n",
       "      <td>0.0</td>\n",
       "      <td>0.0</td>\n",
       "      <td>0.0</td>\n",
       "      <td>0.0</td>\n",
       "    </tr>\n",
       "    <tr>\n",
       "      <th>...</th>\n",
       "      <td>...</td>\n",
       "      <td>...</td>\n",
       "      <td>...</td>\n",
       "      <td>...</td>\n",
       "      <td>...</td>\n",
       "      <td>...</td>\n",
       "      <td>...</td>\n",
       "      <td>...</td>\n",
       "      <td>...</td>\n",
       "      <td>...</td>\n",
       "      <td>...</td>\n",
       "      <td>...</td>\n",
       "      <td>...</td>\n",
       "      <td>...</td>\n",
       "      <td>...</td>\n",
       "      <td>...</td>\n",
       "      <td>...</td>\n",
       "      <td>...</td>\n",
       "      <td>...</td>\n",
       "      <td>...</td>\n",
       "      <td>...</td>\n",
       "    </tr>\n",
       "    <tr>\n",
       "      <th>521731</th>\n",
       "      <td>0.0</td>\n",
       "      <td>0.000000</td>\n",
       "      <td>0.0</td>\n",
       "      <td>0.000000</td>\n",
       "      <td>0.000000</td>\n",
       "      <td>0.000000</td>\n",
       "      <td>0.000000</td>\n",
       "      <td>0.000000</td>\n",
       "      <td>0.0</td>\n",
       "      <td>0.0</td>\n",
       "      <td>...</td>\n",
       "      <td>0.0</td>\n",
       "      <td>0.00000</td>\n",
       "      <td>0.000000</td>\n",
       "      <td>0.000000</td>\n",
       "      <td>0.0</td>\n",
       "      <td>0.0</td>\n",
       "      <td>0.0</td>\n",
       "      <td>0.0</td>\n",
       "      <td>0.0</td>\n",
       "      <td>0.0</td>\n",
       "    </tr>\n",
       "    <tr>\n",
       "      <th>292802</th>\n",
       "      <td>0.0</td>\n",
       "      <td>0.000000</td>\n",
       "      <td>0.0</td>\n",
       "      <td>0.000000</td>\n",
       "      <td>0.000000</td>\n",
       "      <td>0.000000</td>\n",
       "      <td>0.199547</td>\n",
       "      <td>0.000000</td>\n",
       "      <td>0.0</td>\n",
       "      <td>0.0</td>\n",
       "      <td>...</td>\n",
       "      <td>0.0</td>\n",
       "      <td>0.00000</td>\n",
       "      <td>0.000000</td>\n",
       "      <td>0.000000</td>\n",
       "      <td>0.0</td>\n",
       "      <td>0.0</td>\n",
       "      <td>0.0</td>\n",
       "      <td>0.0</td>\n",
       "      <td>0.0</td>\n",
       "      <td>0.0</td>\n",
       "    </tr>\n",
       "    <tr>\n",
       "      <th>192620</th>\n",
       "      <td>0.0</td>\n",
       "      <td>0.000000</td>\n",
       "      <td>0.0</td>\n",
       "      <td>0.219618</td>\n",
       "      <td>0.000000</td>\n",
       "      <td>0.251963</td>\n",
       "      <td>0.000000</td>\n",
       "      <td>0.000000</td>\n",
       "      <td>0.0</td>\n",
       "      <td>0.0</td>\n",
       "      <td>...</td>\n",
       "      <td>0.0</td>\n",
       "      <td>0.00000</td>\n",
       "      <td>0.000000</td>\n",
       "      <td>0.242894</td>\n",
       "      <td>0.0</td>\n",
       "      <td>0.0</td>\n",
       "      <td>0.0</td>\n",
       "      <td>0.0</td>\n",
       "      <td>0.0</td>\n",
       "      <td>0.0</td>\n",
       "    </tr>\n",
       "    <tr>\n",
       "      <th>125322</th>\n",
       "      <td>0.0</td>\n",
       "      <td>0.000000</td>\n",
       "      <td>0.0</td>\n",
       "      <td>0.000000</td>\n",
       "      <td>0.000000</td>\n",
       "      <td>0.311451</td>\n",
       "      <td>0.000000</td>\n",
       "      <td>0.000000</td>\n",
       "      <td>0.0</td>\n",
       "      <td>0.0</td>\n",
       "      <td>...</td>\n",
       "      <td>0.0</td>\n",
       "      <td>0.00000</td>\n",
       "      <td>0.294394</td>\n",
       "      <td>0.000000</td>\n",
       "      <td>0.0</td>\n",
       "      <td>0.0</td>\n",
       "      <td>0.0</td>\n",
       "      <td>0.0</td>\n",
       "      <td>0.0</td>\n",
       "      <td>0.0</td>\n",
       "    </tr>\n",
       "    <tr>\n",
       "      <th>377194</th>\n",
       "      <td>0.0</td>\n",
       "      <td>0.000000</td>\n",
       "      <td>0.0</td>\n",
       "      <td>0.000000</td>\n",
       "      <td>0.000000</td>\n",
       "      <td>0.000000</td>\n",
       "      <td>0.000000</td>\n",
       "      <td>0.000000</td>\n",
       "      <td>0.0</td>\n",
       "      <td>0.0</td>\n",
       "      <td>...</td>\n",
       "      <td>0.0</td>\n",
       "      <td>0.00000</td>\n",
       "      <td>0.000000</td>\n",
       "      <td>0.000000</td>\n",
       "      <td>0.0</td>\n",
       "      <td>0.0</td>\n",
       "      <td>0.0</td>\n",
       "      <td>0.0</td>\n",
       "      <td>0.0</td>\n",
       "      <td>0.0</td>\n",
       "    </tr>\n",
       "  </tbody>\n",
       "</table>\n",
       "<p>100 rows × 50 columns</p>\n",
       "</div>"
      ],
      "text/plain": [
       "        vanilla extract      bell  parmesan cheese  baking powder   oregano  \\\n",
       "id                                                                            \n",
       "448417  0.0              0.000000  0.0              0.000000       0.000000   \n",
       "387440  0.0              0.000000  0.0              0.241258       0.000000   \n",
       "279229  0.0              0.000000  0.0              0.375184       0.000000   \n",
       "271012  0.0              0.000000  0.0              0.000000       0.000000   \n",
       "495344  0.0              0.285095  0.0              0.000000       0.284258   \n",
       "...     ...                   ...  ...                   ...            ...   \n",
       "521731  0.0              0.000000  0.0              0.000000       0.000000   \n",
       "292802  0.0              0.000000  0.0              0.000000       0.000000   \n",
       "192620  0.0              0.000000  0.0              0.219618       0.000000   \n",
       "125322  0.0              0.000000  0.0              0.000000       0.000000   \n",
       "377194  0.0              0.000000  0.0              0.000000       0.000000   \n",
       "\n",
       "           flour  black pepper  powder salt  granulated sugar  powdered  ...  \\\n",
       "id                                                                       ...   \n",
       "448417  0.000000  0.000000      0.000000     0.0               0.0       ...   \n",
       "387440  0.163477  0.000000      0.298134     0.0               0.0       ...   \n",
       "279229  0.254225  0.000000      0.463632     0.0               0.0       ...   \n",
       "271012  0.000000  0.000000      0.000000     0.0               0.0       ...   \n",
       "495344  0.000000  0.000000      0.000000     0.0               0.0       ...   \n",
       "...          ...       ...           ...     ...               ...       ...   \n",
       "521731  0.000000  0.000000      0.000000     0.0               0.0       ...   \n",
       "292802  0.000000  0.199547      0.000000     0.0               0.0       ...   \n",
       "192620  0.251963  0.000000      0.000000     0.0               0.0       ...   \n",
       "125322  0.311451  0.000000      0.000000     0.0               0.0       ...   \n",
       "377194  0.000000  0.000000      0.000000     0.0               0.0       ...   \n",
       "\n",
       "        red   tomato    butter    nutmeg  purpose  granulated  apple  raisins  \\\n",
       "id                                                                              \n",
       "448417  0.0  0.00000  0.000000  0.000000  0.0      0.0         0.0    0.0       \n",
       "387440  0.0  0.00000  0.154523  0.266827  0.0      0.0         0.0    0.0       \n",
       "279229  0.0  0.00000  0.240302  0.000000  0.0      0.0         0.0    0.0       \n",
       "271012  0.0  0.00000  0.225010  0.000000  0.0      0.0         0.0    0.0       \n",
       "495344  0.0  0.27882  0.000000  0.000000  0.0      0.0         0.0    0.0       \n",
       "...     ...      ...       ...       ...  ...      ...         ...    ...       \n",
       "521731  0.0  0.00000  0.000000  0.000000  0.0      0.0         0.0    0.0       \n",
       "292802  0.0  0.00000  0.000000  0.000000  0.0      0.0         0.0    0.0       \n",
       "192620  0.0  0.00000  0.000000  0.242894  0.0      0.0         0.0    0.0       \n",
       "125322  0.0  0.00000  0.294394  0.000000  0.0      0.0         0.0    0.0       \n",
       "377194  0.0  0.00000  0.000000  0.000000  0.0      0.0         0.0    0.0       \n",
       "\n",
       "        rice  vinegar  \n",
       "id                     \n",
       "448417  0.0   0.0      \n",
       "387440  0.0   0.0      \n",
       "279229  0.0   0.0      \n",
       "271012  0.0   0.0      \n",
       "495344  0.0   0.0      \n",
       "...     ...   ...      \n",
       "521731  0.0   0.0      \n",
       "292802  0.0   0.0      \n",
       "192620  0.0   0.0      \n",
       "125322  0.0   0.0      \n",
       "377194  0.0   0.0      \n",
       "\n",
       "[100 rows x 50 columns]"
      ]
     },
     "execution_count": 17,
     "metadata": {},
     "output_type": "execute_result"
    }
   ],
   "source": [
    "tf_df=pd.DataFrame(tfidf_matrix.todense(), columns=tf.get_feature_names(),   index=sample_df.id).sample(50, axis=1).sample(100, axis=0)\n",
    "tf_df"
   ]
  },
  {
   "cell_type": "markdown",
   "metadata": {},
   "source": [
    "## Step-4  Similarity algorithm implementation\n",
    "##### The last step of Vector Space Model is ‘Similarity Measure’. In this last step of the Vector Space model, the documents are ranked with respect to the queried document. This step returns similarity scores computed for the degree of similarity between query and the documents. In the final result, documents are ordered according to the most relevant scores with the query. Here three most widely used similarity algorithms are used as below -\n",
    "### 1. Cosine Similarity\n",
    "### 2. Euclidian Distance\n",
    "### 3. Pearson Co-efficient"
   ]
  },
  {
   "cell_type": "code",
   "execution_count": 19,
   "metadata": {},
   "outputs": [],
   "source": [
    "#Cosine Similarity\n",
    "cosine_similarities = linear_kernel(tfidf_matrix,tfidf_matrix) \n",
    "\n",
    "# Euclidian Distance\n",
    "euc_distances = euclidean_distances(tfidf_matrix)\n",
    "\n",
    "#Pearson_corr_array\n",
    "tfidf_matrix_array = tfidf_matrix.toarray()"
   ]
  },
  {
   "cell_type": "code",
   "execution_count": 20,
   "metadata": {},
   "outputs": [
    {
     "name": "stdout",
     "output_type": "stream",
     "text": [
      "pairwise dense output:\n",
      " [[1.         0.05861584 0.02315997 ... 0.09825275 0.25420674 0.        ]\n",
      " [0.05861584 1.         0.09273989 ... 0.11951643 0.22585737 0.        ]\n",
      " [0.02315997 0.09273989 1.         ... 0.08854566 0.01488069 0.04290789]\n",
      " ...\n",
      " [0.09825275 0.11951643 0.08854566 ... 1.         0.28474108 0.17448674]\n",
      " [0.25420674 0.22585737 0.01488069 ... 0.28474108 1.         0.19068433]\n",
      " [0.         0.         0.04290789 ... 0.17448674 0.19068433 1.        ]]\n",
      "\n"
     ]
    }
   ],
   "source": [
    "#Cosine Similarity Pairwise output\n",
    "cosine_similarities = linear_kernel(tfidf_matrix, tfidf_matrix) \n",
    "print('pairwise dense output:\\n {}\\n'.format(cosine_similarities))"
   ]
  },
  {
   "cell_type": "code",
   "execution_count": null,
   "metadata": {},
   "outputs": [],
   "source": [
    "#Cosine Similarity sparse matrices output\n",
    "similarities_sparse = cosine_similarity(tfidf_matrix,dense_output=False)\n",
    "print('pairwise sparse output:\\n {}\\n'.format(similarities_sparse))"
   ]
  },
  {
   "cell_type": "code",
   "execution_count": 13,
   "metadata": {
    "collapsed": true,
    "jupyter": {
     "outputs_hidden": true
    }
   },
   "outputs": [
    {
     "name": "stdout",
     "output_type": "stream",
     "text": [
      "pairwise sparse output:\n",
      " [[0.         0.42134286 0.42134286 ... 1.39319997 1.32679126 1.38476007]\n",
      " [0.42134286 0.         0.         ... 1.39113604 1.34202882 1.3818574 ]\n",
      " [0.42134286 0.         0.         ... 1.39113604 1.34202882 1.3818574 ]\n",
      " ...\n",
      " [1.39319997 1.39113604 1.39113604 ... 0.         1.36181352 1.23230826]\n",
      " [1.32679126 1.34202882 1.34202882 ... 1.36181352 0.         1.37668274]\n",
      " [1.38476007 1.3818574  1.3818574  ... 1.23230826 1.37668274 0.        ]]\n",
      "\n"
     ]
    }
   ],
   "source": [
    "#Euclidean Distance sparse output\n",
    "similarities_sparse = euclidean_distances(tfidf_matrix)\n",
    "print('pairwise sparse output:\\n {}\\n'.format(similarities_sparse))"
   ]
  },
  {
   "cell_type": "code",
   "execution_count": 18,
   "metadata": {},
   "outputs": [
    {
     "ename": "TypeError",
     "evalue": "sparse matrix length is ambiguous; use getnnz() or shape[0]",
     "output_type": "error",
     "traceback": [
      "\u001b[1;31m---------------------------------------------------------------------------\u001b[0m",
      "\u001b[1;31mTypeError\u001b[0m                                 Traceback (most recent call last)",
      "\u001b[1;32m<ipython-input-18-85e1b3dc1f4c>\u001b[0m in \u001b[0;36m<module>\u001b[1;34m\u001b[0m\n\u001b[0;32m      1\u001b[0m \u001b[1;31m#also can output sparse matrices\u001b[0m\u001b[1;33m\u001b[0m\u001b[1;33m\u001b[0m\u001b[1;33m\u001b[0m\u001b[0m\n\u001b[1;32m----> 2\u001b[1;33m \u001b[0msimilarities_sparse\u001b[0m \u001b[1;33m=\u001b[0m \u001b[0mpearsonr\u001b[0m\u001b[1;33m(\u001b[0m\u001b[0mtfidf_matrix\u001b[0m\u001b[1;33m,\u001b[0m\u001b[0mtfidf_matrix\u001b[0m\u001b[1;33m)\u001b[0m\u001b[1;33m\u001b[0m\u001b[1;33m\u001b[0m\u001b[0m\n\u001b[0m\u001b[0;32m      3\u001b[0m \u001b[0mprint\u001b[0m\u001b[1;33m(\u001b[0m\u001b[1;34m'pairwise sparse output:\\n {}\\n'\u001b[0m\u001b[1;33m.\u001b[0m\u001b[0mformat\u001b[0m\u001b[1;33m(\u001b[0m\u001b[0msimilarities_sparse\u001b[0m\u001b[1;33m)\u001b[0m\u001b[1;33m)\u001b[0m\u001b[1;33m\u001b[0m\u001b[1;33m\u001b[0m\u001b[0m\n",
      "\u001b[1;32m~\\anaconda3\\lib\\site-packages\\scipy\\stats\\stats.py\u001b[0m in \u001b[0;36mpearsonr\u001b[1;34m(x, y)\u001b[0m\n\u001b[0;32m   3494\u001b[0m \u001b[1;33m\u001b[0m\u001b[0m\n\u001b[0;32m   3495\u001b[0m     \"\"\"\n\u001b[1;32m-> 3496\u001b[1;33m     \u001b[0mn\u001b[0m \u001b[1;33m=\u001b[0m \u001b[0mlen\u001b[0m\u001b[1;33m(\u001b[0m\u001b[0mx\u001b[0m\u001b[1;33m)\u001b[0m\u001b[1;33m\u001b[0m\u001b[1;33m\u001b[0m\u001b[0m\n\u001b[0m\u001b[0;32m   3497\u001b[0m     \u001b[1;32mif\u001b[0m \u001b[0mn\u001b[0m \u001b[1;33m!=\u001b[0m \u001b[0mlen\u001b[0m\u001b[1;33m(\u001b[0m\u001b[0my\u001b[0m\u001b[1;33m)\u001b[0m\u001b[1;33m:\u001b[0m\u001b[1;33m\u001b[0m\u001b[1;33m\u001b[0m\u001b[0m\n\u001b[0;32m   3498\u001b[0m         \u001b[1;32mraise\u001b[0m \u001b[0mValueError\u001b[0m\u001b[1;33m(\u001b[0m\u001b[1;34m'x and y must have the same length.'\u001b[0m\u001b[1;33m)\u001b[0m\u001b[1;33m\u001b[0m\u001b[1;33m\u001b[0m\u001b[0m\n",
      "\u001b[1;32m~\\anaconda3\\lib\\site-packages\\scipy\\sparse\\base.py\u001b[0m in \u001b[0;36m__len__\u001b[1;34m(self)\u001b[0m\n\u001b[0;32m    293\u001b[0m     \u001b[1;31m# non-zeros is more important.  For now, raise an exception!\u001b[0m\u001b[1;33m\u001b[0m\u001b[1;33m\u001b[0m\u001b[1;33m\u001b[0m\u001b[0m\n\u001b[0;32m    294\u001b[0m     \u001b[1;32mdef\u001b[0m \u001b[0m__len__\u001b[0m\u001b[1;33m(\u001b[0m\u001b[0mself\u001b[0m\u001b[1;33m)\u001b[0m\u001b[1;33m:\u001b[0m\u001b[1;33m\u001b[0m\u001b[1;33m\u001b[0m\u001b[0m\n\u001b[1;32m--> 295\u001b[1;33m         raise TypeError(\"sparse matrix length is ambiguous; use getnnz()\"\n\u001b[0m\u001b[0;32m    296\u001b[0m                         \" or shape[0]\")\n\u001b[0;32m    297\u001b[0m \u001b[1;33m\u001b[0m\u001b[0m\n",
      "\u001b[1;31mTypeError\u001b[0m: sparse matrix length is ambiguous; use getnnz() or shape[0]"
     ]
    }
   ],
   "source": [
    "#also can output sparse matrices\n",
    "similarities_sparse = pearsonr(tfidf_matrix,tfidf_matrix)\n",
    "print('pairwise sparse output:\\n {}\\n'.format(similarities_sparse))"
   ]
  },
  {
   "cell_type": "code",
   "execution_count": 84,
   "metadata": {
    "collapsed": true,
    "jupyter": {
     "outputs_hidden": true
    }
   },
   "outputs": [
    {
     "data": {
      "text/plain": [
       "array([[1.        , 0.9112161 , 0.9112161 , ..., 0.0294747 , 0.11977904,\n",
       "        0.04121259],\n",
       "       [0.9112161 , 1.        , 1.        , ..., 0.03234655, 0.09945331,\n",
       "        0.04522812],\n",
       "       [0.9112161 , 1.        , 1.        , ..., 0.03234655, 0.09945331,\n",
       "        0.04522812],\n",
       "       ...,\n",
       "       [0.0294747 , 0.03234655, 0.03234655, ..., 1.        , 0.07270888,\n",
       "        0.24070447],\n",
       "       [0.11977904, 0.09945331, 0.09945331, ..., 0.07270888, 1.        ,\n",
       "        0.05238608],\n",
       "       [0.04121259, 0.04522812, 0.04522812, ..., 0.24070447, 0.05238608,\n",
       "        1.        ]])"
      ]
     },
     "execution_count": 84,
     "metadata": {},
     "output_type": "execute_result"
    }
   ],
   "source": [
    "cosine_similarities"
   ]
  },
  {
   "cell_type": "code",
   "execution_count": 58,
   "metadata": {
    "collapsed": true,
    "jupyter": {
     "outputs_hidden": true
    }
   },
   "outputs": [
    {
     "name": "stdout",
     "output_type": "stream",
     "text": [
      "Pearson Coefficient output:\n",
      " {}\n",
      " [[0.         0.         0.         ... 0.         0.         0.        ]\n",
      " [0.         0.         0.         ... 0.         0.         0.        ]\n",
      " [0.         0.         0.         ... 0.         0.         0.        ]\n",
      " ...\n",
      " [0.         0.         0.         ... 0.         0.         0.        ]\n",
      " [0.         0.         0.         ... 0.         0.         0.23773174]\n",
      " [0.         0.         0.         ... 0.         0.         0.        ]]\n"
     ]
    }
   ],
   "source": [
    "print('Pearson Coefficient output:\\n {}\\n',tfidf_matrix_array)"
   ]
  },
  {
   "cell_type": "markdown",
   "metadata": {},
   "source": [
    "## Step-5: Recommendation Functions.\n",
    "##### 1. Recommendation based on Cosine Similarity\n",
    "##### 2. Recommendation based on Euclidean Distance\n",
    "##### 3. Recommendation based on Pearson Correlation"
   ]
  },
  {
   "cell_type": "code",
   "execution_count": 90,
   "metadata": {},
   "outputs": [],
   "source": [
    "# 1. Recommendation Function using Cosine Similarity \n",
    "\n",
    "indices= pd.Series(sample_df.index, index=sample_df['id'])\n",
    "def get_recommendations_cosine(id, num, cosine_similarities=cosine_similarities):\n",
    "    idx = indices[id]\n",
    "    sim_scores =list(enumerate(cosine_similarities[idx]))   \n",
    "    sim_scores = sorted(sim_scores, key= lambda x:x[1], reverse=True)\n",
    "    sim_scores = sim_scores[0:num+1]\n",
    "    recipe_indices = [i[0] for i in sim_scores]\n",
    "    df_score= sim_scores\n",
    "    #df = pd.DataFrame(sample_df[['id','name','ingredients']].iloc[recipe_indices],columns =['id','name','ingredients'])\n",
    "    df = pd.DataFrame(sample_df[['name']].iloc[recipe_indices],columns =['name']),sim_scores\n",
    "    return df\n"
   ]
  },
  {
   "cell_type": "code",
   "execution_count": null,
   "metadata": {},
   "outputs": [],
   "source": [
    "# 2. Recommendation Function using Euclidean Distance\n",
    "\n",
    "inddict = indices.to_dict()\n",
    "D = euclidean_distances(tfidf_matrix)\n",
    "\n",
    "def get_recommendations_euclidean(id,num):\n",
    "    ind = inddict[id]\n",
    "    distance = list(enumerate(D[ind]))\n",
    "    distance = sorted(distance, key=lambda x: x[1])\n",
    "    distance = distance[1:num+1]\n",
    "    #Get the books index\n",
    "    recipe_index = [i[0] for i in distance]\n",
    "\n",
    "    #df_euclidean = pd.DataFrame(sample_df[['id','name','ingredients']].iloc[recipe_index],columns =['id','name','ingredients'])\n",
    "    df_euclidean = pd.DataFrame(sample_df[['name']].iloc[recipe_index],columns =['name']),distance\n",
    "    return df_euclidean"
   ]
  },
  {
   "cell_type": "code",
   "execution_count": null,
   "metadata": {},
   "outputs": [],
   "source": [
    "# 3. Recommendation Function using Pearson Correlation\n",
    "\n",
    "def get_recommendations_pearson(id, num):\n",
    "    ind = indices[id]\n",
    "    correlation = []\n",
    "    for i in range(len(tfidf_matrix_array)):\n",
    "        correlation.append(pearsonr(tfidf_matrix_array[ind], tfidf_matrix_array[i])[0])\n",
    "    correlation = list(enumerate(correlation))\n",
    "    sorted_corr = sorted(correlation, reverse=True, key=lambda x: x[1])[1:num+1]\n",
    "    recipe_index = [i[0] for i in sorted_corr]\n",
    "    return sample_df.iloc[recipe_index],sorted_corr"
   ]
  },
  {
   "cell_type": "code",
   "execution_count": 91,
   "metadata": {
    "collapsed": true,
    "jupyter": {
     "outputs_hidden": true
    }
   },
   "outputs": [
    {
     "data": {
      "text/plain": [
       "(                                                  name\n",
       " 10003  ham  solo savory cake                          \n",
       " 7853   5 cheese baked macaroni and cheese             \n",
       " 4468   alfredo s of rome s original fettuccine alfredo\n",
       " 8181   apple and cheese scones                        \n",
       " 4985   5 ingredient macaroni and cheese               \n",
       " 4476   andrej s king crepe                            ,\n",
       " [(10003, 0.9999999999999999),\n",
       "  (7853, 0.7352785207688677),\n",
       "  (4468, 0.6118456849724369),\n",
       "  (8181, 0.6085551340327451),\n",
       "  (4985, 0.5933980172589046),\n",
       "  (4476, 0.5902062203381542)])"
      ]
     },
     "execution_count": 91,
     "metadata": {},
     "output_type": "execute_result"
    }
   ],
   "source": [
    "get_recommendations_cosine(535431,5)"
   ]
  },
  {
   "cell_type": "code",
   "execution_count": 99,
   "metadata": {
    "collapsed": true,
    "jupyter": {
     "outputs_hidden": true
    }
   },
   "outputs": [
    {
     "data": {
      "text/plain": [
       "(                                                 name\n",
       " 7853  5 cheese baked macaroni and cheese             \n",
       " 4468  alfredo s of rome s original fettuccine alfredo\n",
       " 8181  apple and cheese scones                        \n",
       " 4985  5 ingredient macaroni and cheese               \n",
       " 4476  andrej s king crepe                            ,\n",
       " [(7853, 0.7276283106519869),\n",
       "  (4468, 0.8810837815186059),\n",
       "  (8181, 0.884810562739002),\n",
       "  (4985, 0.9017782241117771),\n",
       "  (4476, 0.9053107529040466)])"
      ]
     },
     "execution_count": 99,
     "metadata": {},
     "output_type": "execute_result"
    }
   ],
   "source": [
    "recommend_euclidean_distance(535431,5)"
   ]
  }
 ],
 "metadata": {
  "kernelspec": {
   "display_name": "Python 3",
   "language": "python",
   "name": "python3"
  },
  "language_info": {
   "codemirror_mode": {
    "name": "ipython",
    "version": 3
   },
   "file_extension": ".py",
   "mimetype": "text/x-python",
   "name": "python",
   "nbconvert_exporter": "python",
   "pygments_lexer": "ipython3",
   "version": "3.7.6"
  }
 },
 "nbformat": 4,
 "nbformat_minor": 4
}
